{
 "cells": [
  {
   "cell_type": "markdown",
   "metadata": {},
   "source": [
    "Для правильной работы разместите файлы forecast_chan.csv, market_file.csv, market_money.csv, market_time.csv, money.csv в папку с этим файлом."
   ]
  },
  {
   "cell_type": "code",
   "execution_count": null,
   "metadata": {},
   "outputs": [],
   "source": [
    "import pandas as pd\n",
    "import numpy as np\n",
    "import seaborn as sns\n",
    "import matplotlib.pyplot as plt\n"
   ]
  },
  {
   "cell_type": "markdown",
   "metadata": {},
   "source": [
    "# ЗАГРУЗКА ДАННЫХ"
   ]
  },
  {
   "cell_type": "code",
   "execution_count": null,
   "metadata": {},
   "outputs": [],
   "source": [
    "df_market = pd.read_csv('market_file.csv')\n",
    "df_market"
   ]
  },
  {
   "cell_type": "code",
   "execution_count": null,
   "metadata": {},
   "outputs": [],
   "source": [
    "df_market.info() # описание данных. кроме того видно, что нет пропусков в значениях"
   ]
  },
  {
   "cell_type": "code",
   "execution_count": null,
   "metadata": {},
   "outputs": [],
   "source": [
    "df_market_money = pd.read_csv('market_money.csv')\n",
    "df_market_money"
   ]
  },
  {
   "cell_type": "code",
   "execution_count": null,
   "metadata": {},
   "outputs": [],
   "source": [
    "df_market_money.info() # описание данных. кроме того видно, что нет пропусков в значениях"
   ]
  },
  {
   "cell_type": "code",
   "execution_count": null,
   "metadata": {},
   "outputs": [],
   "source": [
    "df_market_time = pd.read_csv('market_time.csv')\n",
    "df_market_time"
   ]
  },
  {
   "cell_type": "code",
   "execution_count": null,
   "metadata": {},
   "outputs": [],
   "source": [
    "df_market_time.info() # описание данных. кроме того видно, что нет пропусков в значениях"
   ]
  },
  {
   "cell_type": "code",
   "execution_count": null,
   "metadata": {},
   "outputs": [],
   "source": [
    "df_money = pd.read_csv('money.csv', sep=';', decimal=',')\n",
    "df_money"
   ]
  },
  {
   "cell_type": "code",
   "execution_count": null,
   "metadata": {},
   "outputs": [],
   "source": [
    "df_money.info() # описание данных. кроме того видно, что нет пропусков в значениях"
   ]
  },
  {
   "cell_type": "code",
   "execution_count": null,
   "metadata": {},
   "outputs": [],
   "source": [
    "df_forecast_chan = pd.read_csv('forecast_chan.csv', encoding='cp1251', sep=';', decimal=',')\n",
    "df_forecast_chan"
   ]
  },
  {
   "cell_type": "code",
   "execution_count": null,
   "metadata": {},
   "outputs": [],
   "source": [
    "df_forecast_chan.info() # описание данных. кроме того видно, что нет пропусков в значениях"
   ]
  },
  {
   "cell_type": "markdown",
   "metadata": {},
   "source": [
    "# ПРЕДОБРАБОТКА + начало исследования"
   ]
  },
  {
   "cell_type": "code",
   "execution_count": null,
   "metadata": {},
   "outputs": [],
   "source": [
    "#market\n",
    "df_market.head(5)"
   ]
  },
  {
   "cell_type": "code",
   "execution_count": null,
   "metadata": {},
   "outputs": [],
   "source": [
    "for column in df_market.select_dtypes('object').columns:  # описание значений строковых данных\n",
    "    print(df_market[column].value_counts(), '\\n')"
   ]
  },
  {
   "cell_type": "code",
   "execution_count": null,
   "metadata": {},
   "outputs": [],
   "source": [
    "num_cols = df_market.select_dtypes(['int64', 'float64']).columns.drop('id')\n",
    "\n",
    "# Вычисляем количество столбцов\n",
    "num_plots = len(num_cols)\n",
    "n_cols = 1  # Устанавливаем один столбец для всех графиков\n",
    "n_rows = num_plots  # Каждый график будет находиться в отдельной строке\n",
    "\n",
    "# Создание объектов рисунков и осей\n",
    "fig, axes = plt.subplots(nrows=n_rows, ncols=n_cols, figsize=(8, 10))\n",
    "\n",
    "# Построение графиков в столбик\n",
    "for i, col in enumerate(num_cols):\n",
    "    sns.boxplot(x=df_market[col], ax=axes[i])\n",
    "\n",
    "plt.tight_layout()  # Для более компактного отображения\n",
    "plt.show()\n"
   ]
  },
  {
   "cell_type": "markdown",
   "metadata": {},
   "source": [
    "видим вполне адекватные значения, критических выбросов не замечено. Выбросы, которые видны на графике вполне объясняются, в дальнейшем могут пригодится."
   ]
  },
  {
   "cell_type": "code",
   "execution_count": null,
   "metadata": {},
   "outputs": [],
   "source": [
    "#market money\n",
    "df_market_money.head(5)"
   ]
  },
  {
   "cell_type": "code",
   "execution_count": null,
   "metadata": {},
   "outputs": [],
   "source": [
    "for column in df_market_money.select_dtypes('object').columns:  # описание значений строковых данных\n",
    "    print(df_market_money[column].value_counts(), '\\n')"
   ]
  },
  {
   "cell_type": "code",
   "execution_count": null,
   "metadata": {},
   "outputs": [],
   "source": [
    "plt.figure(figsize=(15,4))\n",
    "sns.boxplot(x=df_market_money['Выручка'])"
   ]
  },
  {
   "cell_type": "code",
   "execution_count": null,
   "metadata": {},
   "outputs": [],
   "source": [
    "df_market_money['Выручка'].describe()"
   ]
  },
  {
   "cell_type": "code",
   "execution_count": null,
   "metadata": {},
   "outputs": [],
   "source": [
    "df_market_money.sort_values(by='Выручка', ascending=False).head(5)"
   ]
  },
  {
   "cell_type": "markdown",
   "metadata": {},
   "source": [
    "видим, что присутствует один человек с неимоверно большой выручкой\n",
    "\n",
    "давайте рассмотрим, чем вызвана его выручка в текущем месяце. Какая у него активность и т.д."
   ]
  },
  {
   "cell_type": "code",
   "execution_count": null,
   "metadata": {},
   "outputs": [],
   "source": [
    "df_market[df_market.id == 215380]"
   ]
  },
  {
   "cell_type": "code",
   "execution_count": null,
   "metadata": {},
   "outputs": [],
   "source": [
    "df_market_time[df_market_time.id == 215380] # сразу замечаем опечатку \"предыдЦщий_месяц\". в дальнейшем надо ее исправить"
   ]
  },
  {
   "cell_type": "markdown",
   "metadata": {},
   "source": [
    "видим, что человек с этим id НЕ МОГ вызвать такую выручку, т.к. его активность и другие действия такие же, как и у других. все приближено к нормальным значениям. при том время, проведеноое на сайте всего 14 минут. Это ВЫБРОС. удалим человека с этим индексом\n"
   ]
  },
  {
   "cell_type": "code",
   "execution_count": null,
   "metadata": {},
   "outputs": [],
   "source": [
    "df_market_time = df_market_time[(df_market_time.id != 215380)]\n",
    "df_market_money = df_market_money[(df_market_money.id != 215380)]\n",
    "df_money = df_money[(df_money.id != 215380)]\n",
    "df_market = df_market[(df_market.id != 215380)]\n",
    "df_forecast_chan = df_forecast_chan[(df_forecast_chan.id != 215380)]\n",
    "\n",
    "# оставим предыдущий месяц, т.к. там проблем не замечено"
   ]
  },
  {
   "cell_type": "code",
   "execution_count": null,
   "metadata": {},
   "outputs": [],
   "source": [
    "#market time\n",
    "df_market_time.head(5)\n"
   ]
  },
  {
   "cell_type": "code",
   "execution_count": null,
   "metadata": {},
   "outputs": [],
   "source": [
    "for column in df_market_time.select_dtypes('object').columns:  # описание значений строковых данных\n",
    "    print(df_market_time[column].value_counts(), '\\n')"
   ]
  },
  {
   "cell_type": "code",
   "execution_count": null,
   "metadata": {},
   "outputs": [],
   "source": [
    "# снова видим отпечатку. заменим ее\n",
    "df_market_time['Период'] = df_market_time['Период'].apply(lambda x: x if x == 'текущий_месяц' else 'предыдущий_месяц')"
   ]
  },
  {
   "cell_type": "code",
   "execution_count": null,
   "metadata": {},
   "outputs": [],
   "source": [
    "for column in df_market_time.select_dtypes('object').columns:  # описание значений строковых данных\n",
    "    print(df_market_time[column].value_counts(), '\\n')\n",
    "#  теперь все правильно"
   ]
  },
  {
   "cell_type": "code",
   "execution_count": null,
   "metadata": {},
   "outputs": [],
   "source": [
    "sns.boxplot(df_market_time['минут'])"
   ]
  },
  {
   "cell_type": "markdown",
   "metadata": {},
   "source": [
    "здесь все хорошо"
   ]
  },
  {
   "cell_type": "code",
   "execution_count": null,
   "metadata": {},
   "outputs": [],
   "source": [
    "#money\n",
    "df_money.head(5)\n"
   ]
  },
  {
   "cell_type": "code",
   "execution_count": null,
   "metadata": {},
   "outputs": [],
   "source": [
    "sns.boxplot(df_money['Прибыль'])"
   ]
  },
  {
   "cell_type": "markdown",
   "metadata": {},
   "source": [
    "все рассмотрено, основные ошибки исправлены"
   ]
  },
  {
   "cell_type": "markdown",
   "metadata": {},
   "source": [
    "# ПРОДОЛЖАЕМ ИССЛЕДОВАТЕЛЬСКИЙ АНАЛИЗ"
   ]
  },
  {
   "cell_type": "code",
   "execution_count": null,
   "metadata": {},
   "outputs": [],
   "source": [
    "#market \n",
    "sns.pairplot(df_market)"
   ]
  },
  {
   "cell_type": "code",
   "execution_count": null,
   "metadata": {},
   "outputs": [],
   "source": [
    "#market time\n",
    "sns.pairplot(df_market_time)"
   ]
  },
  {
   "cell_type": "code",
   "execution_count": null,
   "metadata": {},
   "outputs": [],
   "source": [
    "sns.histplot(df_market_time['минут'], bins=10)"
   ]
  },
  {
   "cell_type": "code",
   "execution_count": null,
   "metadata": {},
   "outputs": [],
   "source": [
    "#market_money\n",
    "sns.pairplot(df_market_money)"
   ]
  },
  {
   "cell_type": "code",
   "execution_count": null,
   "metadata": {},
   "outputs": [],
   "source": [
    "sns.histplot(df_market_money['Выручка'], bins=20)"
   ]
  },
  {
   "cell_type": "code",
   "execution_count": null,
   "metadata": {},
   "outputs": [],
   "source": [
    "#market time\n",
    "sns.pairplot(df_money)"
   ]
  },
  {
   "cell_type": "code",
   "execution_count": null,
   "metadata": {},
   "outputs": [],
   "source": [
    "sns.histplot(df_money['Прибыль'], bins=15)"
   ]
  },
  {
   "cell_type": "code",
   "execution_count": null,
   "metadata": {},
   "outputs": [],
   "source": [
    "df_market"
   ]
  },
  {
   "cell_type": "markdown",
   "metadata": {},
   "source": [
    "# Объединение таблиц"
   ]
  },
  {
   "cell_type": "code",
   "execution_count": null,
   "metadata": {},
   "outputs": [],
   "source": [
    "merged_data = pd.merge(df_market, df_market_money, on='id')\n",
    "merged_data = pd.merge(merged_data, df_market_time, on=['id', \"Период\"])\n",
    "merged_data"
   ]
  },
  {
   "cell_type": "code",
   "execution_count": null,
   "metadata": {},
   "outputs": [],
   "source": [
    "merged_data.Период.value_counts()"
   ]
  },
  {
   "cell_type": "code",
   "execution_count": null,
   "metadata": {},
   "outputs": [],
   "source": [
    "df_market_money[df_market_money.id == 215348]"
   ]
  },
  {
   "cell_type": "code",
   "execution_count": null,
   "metadata": {},
   "outputs": [],
   "source": [
    "revenue_columns = ['текущий_месяц_выручка', 'предыдущий_месяц_выручка']\n",
    "revenue_data = merged_data.pivot(index='id', columns='Период', values='Выручка').reset_index()\n",
    "revenue_data.columns = ['id'] + revenue_columns\n",
    "time_columns = ['текущий_месяц_время', 'предыдущий_месяц_время']\n",
    "time_data = merged_data.pivot(index='id', columns='Период', values='минут').reset_index()\n",
    "time_data.columns = ['id'] + time_columns\n",
    "\n",
    "# Итоговая таблица с данными о выручке, времени на сайте и остальными данными\n",
    "final_data = pd.merge(merged_data, revenue_data, on='id')\n",
    "final_data = pd.merge(final_data, time_data, on='id')"
   ]
  },
  {
   "cell_type": "code",
   "execution_count": null,
   "metadata": {},
   "outputs": [],
   "source": [
    "final_data"
   ]
  },
  {
   "cell_type": "code",
   "execution_count": null,
   "metadata": {},
   "outputs": [],
   "source": [
    "final_data.drop('Период', axis=1, inplace=True)\n",
    "final_data.drop('Выручка', axis=1, inplace=True)\n",
    "final_data.drop('минут', axis=1, inplace=True)\n",
    "final_data"
   ]
  },
  {
   "cell_type": "code",
   "execution_count": null,
   "metadata": {},
   "outputs": [],
   "source": [
    "final_data.drop_duplicates(inplace=True)"
   ]
  },
  {
   "cell_type": "code",
   "execution_count": null,
   "metadata": {},
   "outputs": [],
   "source": [
    "(final_data.id.sort_values() == final_data.id).value_counts()"
   ]
  },
  {
   "cell_type": "code",
   "execution_count": null,
   "metadata": {},
   "outputs": [],
   "source": [
    "money_bef_bef = df_market_money[df_market_money['Период'] == 'препредыдущий_месяц'].drop('Период', axis=1)"
   ]
  },
  {
   "cell_type": "code",
   "execution_count": null,
   "metadata": {},
   "outputs": [],
   "source": [
    "money_bef_bef.columns = ['id', 'препредыдущий_месяц_выручка']\n",
    "money_bef_bef"
   ]
  },
  {
   "cell_type": "code",
   "execution_count": null,
   "metadata": {},
   "outputs": [],
   "source": [
    "final_data = pd.merge(final_data, money_bef_bef, on='id')"
   ]
  },
  {
   "cell_type": "code",
   "execution_count": null,
   "metadata": {},
   "outputs": [],
   "source": [
    "final_data.columns"
   ]
  },
  {
   "cell_type": "code",
   "execution_count": null,
   "metadata": {},
   "outputs": [],
   "source": [
    "final_data = final_data.reindex(columns=['id', 'Покупательская активность', 'Тип сервиса', 'Разрешить сообщать',\n",
    "       'Маркет_актив_6_мес', 'Маркет_актив_тек_мес', 'Длительность',\n",
    "       'Акционные_покупки', 'Популярная_категория',\n",
    "       'Средний_просмотр_категорий_за_визит',\n",
    "       'Неоплаченные_продукты_штук_квартал', 'Ошибка_сервиса',\n",
    "       'Страниц_за_визит', 'текущий_месяц_выручка', 'предыдущий_месяц_выручка','препредыдущий_месяц_выручка', \n",
    "       'текущий_месяц_время', 'предыдущий_месяц_время'])\n"
   ]
  },
  {
   "cell_type": "code",
   "execution_count": null,
   "metadata": {},
   "outputs": [],
   "source": [
    "final_data"
   ]
  },
  {
   "cell_type": "markdown",
   "metadata": {},
   "source": [
    "# Корреляционный анализ"
   ]
  },
  {
   "cell_type": "code",
   "execution_count": null,
   "metadata": {},
   "outputs": [],
   "source": [
    "from scipy.stats import pearsonr, spearmanr, shapiro\n",
    "\n",
    "# Выбор только количественных признаков (непрерывных переменных)\n",
    "numerical_features = final_data.select_dtypes(include=['float64', 'int64'])\n",
    "\n",
    "# Вычисление корреляций между количественными признаками\n",
    "correlation_matrix = pd.DataFrame(index=numerical_features.columns, columns=numerical_features.columns)\n",
    "for i in numerical_features.columns:\n",
    "    for j in numerical_features.columns:\n",
    "        if i == j:\n",
    "            correlation_matrix.loc[i, j] = 1.0\n",
    "        else:\n",
    "            _, p_value_i = shapiro(numerical_features[i])\n",
    "            _, p_value_j = shapiro(numerical_features[j])\n",
    "            if p_value_i > 0.05 and p_value_j > 0.05:  # Проверка на нормальное распределение\n",
    "                correlation, _ = pearsonr(numerical_features[i], numerical_features[j])\n",
    "            else:\n",
    "                correlation, _ = spearmanr(numerical_features[i], numerical_features[j])\n",
    "            correlation_matrix.loc[i, j] = correlation\n",
    "\n",
    "# Вывод матрицы корреляций\n",
    "correlation_matrix = correlation_matrix.astype('float64')\n",
    "correlation_matrix"
   ]
  },
  {
   "cell_type": "code",
   "execution_count": null,
   "metadata": {},
   "outputs": [],
   "source": [
    "plt.figure(figsize=(10, 10))\n",
    "sns.heatmap(correlation_matrix.round(2), annot=True)"
   ]
  },
  {
   "cell_type": "code",
   "execution_count": null,
   "metadata": {},
   "outputs": [],
   "source": []
  },
  {
   "cell_type": "markdown",
   "metadata": {},
   "source": [
    "# Сегментация"
   ]
  },
  {
   "cell_type": "markdown",
   "metadata": {},
   "source": [
    "было решено рассмотреть людей, со среднемесячной прибылью больше среднего, которые потенциально могут понизить покупательскую активность."
   ]
  },
  {
   "cell_type": "code",
   "execution_count": null,
   "metadata": {},
   "outputs": [],
   "source": [
    "# объеденим таблицы с прибылью, рещультатом моделирования и оставшуюся, над которой мы вели работу\n",
    "df_for_segment = pd.merge(final_data, df_money, on='id')\n",
    "df_for_segment = pd.merge(df_for_segment, df_forecast_chan, on='id')"
   ]
  },
  {
   "cell_type": "code",
   "execution_count": null,
   "metadata": {},
   "outputs": [],
   "source": [
    "df_for_segment.head(5)"
   ]
  },
  {
   "cell_type": "code",
   "execution_count": null,
   "metadata": {},
   "outputs": [],
   "source": [
    "sns.boxplot(df_for_segment.Прибыль) # смотрим на среднюю и медиану для отбора сегмента"
   ]
  },
  {
   "cell_type": "code",
   "execution_count": null,
   "metadata": {},
   "outputs": [],
   "source": [
    "df_for_segment.Прибыль.mean(), df_for_segment.Прибыль.median() # для простоты округлим до 4"
   ]
  },
  {
   "cell_type": "code",
   "execution_count": null,
   "metadata": {},
   "outputs": [],
   "source": [
    "sns.boxplot(df_for_segment.вероятность)"
   ]
  },
  {
   "cell_type": "code",
   "execution_count": null,
   "metadata": {},
   "outputs": [],
   "source": [
    "df_for_segment.вероятность.mean(), df_for_segment.вероятность.median()\n",
    "# видим, что примерно половина значений лежит в диапазоне [0, 0.12]. Возьмем для сегментации значения [0.3,1]"
   ]
  },
  {
   "cell_type": "code",
   "execution_count": null,
   "metadata": {},
   "outputs": [],
   "source": [
    "# отбор значений\n",
    "df_for_segment = df_for_segment[(df_for_segment['Прибыль'] >= 4) & (df_for_segment['вероятность'] >= 0.3)]"
   ]
  },
  {
   "cell_type": "markdown",
   "metadata": {},
   "source": [
    "0.31    2 0.4  449"
   ]
  },
  {
   "cell_type": "code",
   "execution_count": null,
   "metadata": {},
   "outputs": [],
   "source": [
    "df_for_segment.head(5)"
   ]
  },
  {
   "cell_type": "markdown",
   "metadata": {},
   "source": [
    "отобрав значения, сразу же"
   ]
  },
  {
   "cell_type": "code",
   "execution_count": null,
   "metadata": {},
   "outputs": [],
   "source": [
    "# Выбор только количественных признаков (непрерывных переменных)\n",
    "numerical_features = df_for_segment.select_dtypes(include=['float64', 'int64'])\n",
    "\n",
    "# Вычисление корреляций между количественными признаками\n",
    "correlation_matrix = pd.DataFrame(index=numerical_features.columns, columns=numerical_features.columns)\n",
    "for i in numerical_features.columns:\n",
    "    for j in numerical_features.columns:\n",
    "        if i == j:\n",
    "            correlation_matrix.loc[i, j] = 1.0\n",
    "        else:\n",
    "            _, p_value_i = shapiro(numerical_features[i])\n",
    "            _, p_value_j = shapiro(numerical_features[j])\n",
    "            if p_value_i > 0.05 and p_value_j > 0.05:  # Проверка на нормальное распределение\n",
    "                correlation, _ = pearsonr(numerical_features[i], numerical_features[j])\n",
    "            else:\n",
    "                correlation, _ = spearmanr(numerical_features[i], numerical_features[j])\n",
    "            correlation_matrix.loc[i, j] = correlation\n",
    "\n",
    "# Вывод матрицы корреляций\n",
    "correlation_matrix = correlation_matrix.astype('float64')\n",
    "correlation_matrix\n",
    "plt.figure(figsize=(10, 10))\n",
    "sns.heatmap(correlation_matrix.round(2), annot=True)"
   ]
  },
  {
   "cell_type": "markdown",
   "metadata": {},
   "source": [
    "видим отрицательную корреляцию Маркет_актив_6_мес и вероятность.\n",
    "а также Маркет_актив_6_мес слабо коррелирует с количеством страниц за визит, а также со временем текущего и предыдущего месяцев\n",
    "\n",
    "Рассмотрим эти взаимосвязи"
   ]
  },
  {
   "cell_type": "code",
   "execution_count": null,
   "metadata": {},
   "outputs": [],
   "source": [
    "plt.figure(figsize=(5, 15))  \n",
    "\n",
    "plt.subplot(4, 1, 1)  \n",
    "sns.scatterplot(x=df_for_segment['Маркет_актив_6_мес'], y=df_for_segment['вероятность']) \n",
    "\n",
    "# График 2\n",
    "plt.subplot(4, 1, 2)  \n",
    "sns.scatterplot(x=df_for_segment['Маркет_актив_6_мес'], y=df_for_segment['Страниц_за_визит'])  \n",
    "\n",
    "# График 3\n",
    "plt.subplot(4, 1, 3)  \n",
    "sns.scatterplot(x=df_for_segment['Маркет_актив_6_мес'], y=df_for_segment['текущий_месяц_время'])  \n",
    "\n",
    "plt.subplot(4, 1, 4)  \n",
    "sns.scatterplot(x=df_for_segment['Маркет_актив_6_мес'], y=df_for_segment['предыдущий_месяц_время'])\n",
    "plt.show()  # Показать все три графика\n"
   ]
  },
  {
   "cell_type": "markdown",
   "metadata": {},
   "source": [
    "видим небольшие закономерности. Построим графики линейных регрессий"
   ]
  },
  {
   "cell_type": "code",
   "execution_count": null,
   "metadata": {},
   "outputs": [],
   "source": [
    "sns.lmplot(data = df_for_segment, x='Маркет_актив_6_мес', y='вероятность')  \n"
   ]
  },
  {
   "cell_type": "code",
   "execution_count": null,
   "metadata": {},
   "outputs": [],
   "source": [
    "sns.lmplot(data = df_for_segment, x='Маркет_актив_6_мес', y='Страниц_за_визит')  \n"
   ]
  },
  {
   "cell_type": "code",
   "execution_count": null,
   "metadata": {},
   "outputs": [],
   "source": [
    "sns.lmplot(data = df_for_segment, x='Маркет_актив_6_мес', y='текущий_месяц_время')  \n"
   ]
  },
  {
   "cell_type": "code",
   "execution_count": null,
   "metadata": {},
   "outputs": [],
   "source": [
    "sns.lmplot(data = df_for_segment, x='Маркет_актив_6_мес', y='предыдущий_месяц_время')  \n"
   ]
  },
  {
   "cell_type": "markdown",
   "metadata": {},
   "source": [
    "видим большие отклонения значений от результата линейной регрессии везде, кроме графика Маркет_актив_6_мес и вероятность. В этом графике отклонения не столь большие."
   ]
  },
  {
   "cell_type": "markdown",
   "metadata": {},
   "source": [
    "итак, действительно, чем больше среднемесячное значение маркетинговых коммуникаций компании (Маркет_фктив_6_мес), которое приходилось на покупателя за последние 6 месяцев, тем менее вероятно снижение активности покупателя, и тем больше время проведенное на сайте за предыдущий и текущий месяцы.\n",
    "давайе рассмотрим также взаимосвязь этой активности с временем за два последних месяца(время за предыдущий + время за текущий месяц)"
   ]
  },
  {
   "cell_type": "code",
   "execution_count": null,
   "metadata": {},
   "outputs": [],
   "source": [
    "df_for_segment['время_последние_месяцы'] = df_for_segment['текущий_месяц_время'] + df_for_segment['предыдущий_месяц_время']"
   ]
  },
  {
   "cell_type": "code",
   "execution_count": null,
   "metadata": {},
   "outputs": [],
   "source": [
    "shapiro(df_for_segment.время_последние_месяцы)"
   ]
  },
  {
   "cell_type": "code",
   "execution_count": null,
   "metadata": {},
   "outputs": [],
   "source": [
    "df_for_segment.время_последние_месяцы.corr(df_for_segment['Маркет_актив_6_мес'])"
   ]
  },
  {
   "cell_type": "code",
   "execution_count": null,
   "metadata": {},
   "outputs": [],
   "source": [
    "# видим, что корреляция стала больше.\n",
    "sns.lmplot(data=df_for_segment, x='Маркет_актив_6_мес', y = 'время_последние_месяцы')"
   ]
  },
  {
   "cell_type": "markdown",
   "metadata": {},
   "source": [
    "однако отклонений меньше не стало.\n",
    "\n",
    "чем больше среднемесячное значение маркетинговых коммуникаций компании (Маркет_фктив_6_мес), которое приходилось на покупателя за последние 6 месяцев, тем менее вероятно снижение активности покупателя, и тем больше время проведенное на сайте за последние два месяца.\n",
    "следует продвигать активность маркета для этого сегмента."
   ]
  },
  {
   "cell_type": "markdown",
   "metadata": {},
   "source": [
    "# Микровывод\n",
    "итак, был рассмотрен сегмент людей, со среднемесячной прибылью больше среднего, которые потенциально могут понизить покупательскую активность.\n",
    "\n",
    "было выяснено, что активность маркета положительно влияет на время проведенное на сайте, также уменьшает вероятность снижения активности покупателя. Ее следует продвигать для этого сегмента людей. Для этого сегмента стоит сделать упор на рекламу, рассылки, звонки и т.д."
   ]
  },
  {
   "cell_type": "markdown",
   "metadata": {},
   "source": [
    "# Вывод"
   ]
  },
  {
   "cell_type": "markdown",
   "metadata": {},
   "source": [
    "задача: разработать решение, которое позволит персонализировать предложения постоянным клиентам, чтобы увеличить их покупательскую активность.\n",
    "\n"
   ]
  },
  {
   "cell_type": "markdown",
   "metadata": {},
   "source": [
    "данные\n",
    "\n",
    "были даны пять таблиц: \n",
    "основная таблица, описывающая клиента, коммуникацию с ним, продуктовое поведение, финаносовое поведение, а также поведение на сайте клиента\n",
    "\n",
    "таблица с выручкой, получакемой магазином от покупателя в разные периоды\n",
    "\n",
    "таблица со временем, проведенным на сайте в разные периоды\n",
    "\n",
    "таблица с прибылью получаемой магазином от продаж каждому покупателю\n",
    "\n",
    "таблица с работой специалиста Data Science с вероятность. снижения покупательской активности клиента.\n"
   ]
  },
  {
   "cell_type": "markdown",
   "metadata": {},
   "source": [
    "были удалены выбросы, связанные с выручкой клиенты, исправлены опечатки в таблицах"
   ]
  },
  {
   "cell_type": "markdown",
   "metadata": {},
   "source": [
    "Итог:\n",
    "\n",
    "было выявлено, что для сегмента людей, со среднемесячной прибылью больше среднего, которые потенциально могут понизить покупательскую активность для ее повышения, следует увеличивать рекламу, рассылки, звонки. Стоит рассмотреть возможность взаимодействия с клиентом путем социальных сетей, становящихся все более популярными, и других путей коммуникации."
   ]
  }
 ],
 "metadata": {
  "kernelspec": {
   "display_name": "Python 3",
   "language": "python",
   "name": "python3"
  },
  "language_info": {
   "codemirror_mode": {
    "name": "ipython",
    "version": 3
   },
   "file_extension": ".py",
   "mimetype": "text/x-python",
   "name": "python",
   "nbconvert_exporter": "python",
   "pygments_lexer": "ipython3",
   "version": "3.12.0"
  }
 },
 "nbformat": 4,
 "nbformat_minor": 2
}
